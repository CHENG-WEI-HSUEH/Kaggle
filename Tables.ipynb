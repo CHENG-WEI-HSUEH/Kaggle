{
    "cells": [
        {
            "metadata": {},
            "cell_type": "code",
            "source": "import plotly.graph_objects as go\n#Preprocess\nimport pandas as pd\n#Visualization\nimport matplotlib.pyplot as plt\n#Array package\nimport numpy as np\n\naddr = \"https://raw.githubusercontent.com/CHENG-WEI-HSUEH/Kaggle/main/CardioGoodFitness.csv\"\nraw_data = pd.read_csv(addr)\n\nprint(raw_data.describe())",
            "execution_count": 35,
            "outputs": [
                {
                    "output_type": "stream",
                    "text": "              Age   Education       Usage     Fitness         Income  \\\ncount  180.000000  180.000000  180.000000  180.000000     180.000000   \nmean    28.788889   15.572222    3.455556    3.311111   53719.577778   \nstd      6.943498    1.617055    1.084797    0.958869   16506.684226   \nmin     18.000000   12.000000    2.000000    1.000000   29562.000000   \n25%     24.000000   14.000000    3.000000    3.000000   44058.750000   \n50%     26.000000   16.000000    3.000000    3.000000   50596.500000   \n75%     33.000000   16.000000    4.000000    4.000000   58668.000000   \nmax     50.000000   21.000000    7.000000    5.000000  104581.000000   \n\n            Miles  \ncount  180.000000  \nmean   103.194444  \nstd     51.863605  \nmin     21.000000  \n25%     66.000000  \n50%     94.000000  \n75%    114.750000  \nmax    360.000000  \n",
                    "name": "stdout"
                }
            ]
        },
        {
            "metadata": {},
            "cell_type": "code",
            "source": "",
            "execution_count": null,
            "outputs": []
        }
    ],
    "metadata": {
        "kernelspec": {
            "name": "python3",
            "display_name": "Python 3.7",
            "language": "python"
        },
        "language_info": {
            "name": "python",
            "version": "3.7.10",
            "mimetype": "text/x-python",
            "codemirror_mode": {
                "name": "ipython",
                "version": 3
            },
            "pygments_lexer": "ipython3",
            "nbconvert_exporter": "python",
            "file_extension": ".py"
        }
    },
    "nbformat": 4,
    "nbformat_minor": 1
}